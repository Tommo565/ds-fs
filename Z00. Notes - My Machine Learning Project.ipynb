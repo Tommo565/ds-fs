{
 "cells": [
  {
   "cell_type": "markdown",
   "metadata": {},
   "source": [
    "## Z00. Notes - My Machine Learning Project"
   ]
  },
  {
   "cell_type": "markdown",
   "metadata": {},
   "source": [
    "#### Resources"
   ]
  },
  {
   "cell_type": "markdown",
   "metadata": {},
   "source": [
    "[Predicting Titanic Survival (Kaggle)](https://www.kaggle.com/c/titanic/data?#)  \n",
    "[Full Titanic Dataset](http://web.stanford.edu/class/archive/cs/cs109/cs109.1166/problem12.html)  "
   ]
  },
  {
   "cell_type": "markdown",
   "metadata": {},
   "source": [
    "#### Modules"
   ]
  },
  {
   "cell_type": "code",
   "execution_count": null,
   "metadata": {
    "collapsed": true
   },
   "outputs": [],
   "source": [
    "import pandas as pd\n",
    "import numpy as np\n",
    "import pandas_profiling as pdpf\n",
    "import matplotlib.pyplot as plt\n",
    "import seaborn as sns\n",
    "from sklearn.model_selection import train_test_split\n",
    "from sklearn.preprocessing import LabelEncoder, LabelBinarizer, StandardScaler\n",
    "from sklearn.base import BaseEstimator, TransformerMixin\n",
    "from sklearn.pipeline import Pipeline, FeatureUnion\n",
    "from sklearn.metrics import mean_squared_error\n",
    "from sklearn.model_selection import cross_val_score\n",
    "\n",
    "%matplotlib inline"
   ]
  },
  {
   "cell_type": "markdown",
   "metadata": {},
   "source": [
    "#### About"
   ]
  },
  {
   "cell_type": "markdown",
   "metadata": {},
   "source": [
    "|Variable|\tDefinition|\t       Key |\n",
    "|--------|------------|------------|\n",
    "|survival|\tSurvival\t| 0 = No, 1 = Yes |\n",
    "|pclass|\tTicket class\t|1 = 1st, 2 = 2nd, 3 = 3rd |\n",
    "|sex\t|Sex\t| |\n",
    "|Age\t|Age in years\t| |\n",
    "|sibsp\t|# of siblings / spouses aboard the Titanic\t| |\n",
    "|parch\t|# of parents / children aboard the Titanic\t| |\n",
    "|ticket\t|Ticket number |\t |\n",
    "|fare\t|Passenger fare\t| |\n",
    "|cabin\t|Cabin number\t| |\n",
    "|embarked|\tPort of Embarkation\tC = Cherbourg, Q = Queenstown, S = Southampton | |"
   ]
  },
  {
   "cell_type": "markdown",
   "metadata": {},
   "source": [
    "#### Exploration"
   ]
  },
  {
   "cell_type": "code",
   "execution_count": null,
   "metadata": {
    "collapsed": true
   },
   "outputs": [],
   "source": [
    "# Importing the Data\n",
    "\n",
    "df = pd.read_csv('./data/titanic.csv')\n",
    "df.columns"
   ]
  },
  {
   "cell_type": "code",
   "execution_count": null,
   "metadata": {
    "collapsed": true
   },
   "outputs": [],
   "source": [
    "# Exploring the Data\n",
    "\n",
    "# pdpf.ProfileReport(df)\n",
    "# attributes = ['Survived', 'Pclass', 'Sex', 'Age', 'Siblings/Spouses Aboard','Parents/Children Aboard', 'Fare']\n",
    "# pd.plotting.scatter_matrix(df[attributes], figsize=(20, 14), s=4 )"
   ]
  },
  {
   "cell_type": "markdown",
   "metadata": {},
   "source": [
    "#### ML Data Prep"
   ]
  },
  {
   "cell_type": "code",
   "execution_count": null,
   "metadata": {
    "collapsed": true
   },
   "outputs": [],
   "source": [
    "# Manual transformation code\n",
    "\n",
    "df_train, df_test = train_test_split(df, test_size=0.2)                            # Creating the train / test split\n",
    "\n",
    "encoder = LabelEncoder()                                                           # Initialising LabelEncoder to convert gender to a numeric variable\n",
    "sr_sex = df_train[\"Sex\"]                                                           # Creating the category variable from the df\n",
    "sr_sex_enc = encoder.fit_transform(sr_sex)                                         # Encoding the category\n",
    "\n",
    "one_hot_variables = ['Pclass','Siblings/Spouses Aboard','Parents/Children Aboard'] # Variables to one-shot-one-hot encode\n",
    "encoder = LabelBinarizer()                                                         # Initialising the one-shot-one-hot encoder\n",
    "one_hot_outputs = [encoder.fit_transform(df_train[x]) for x in one_hot_variables]  # Creating a list of the one-shot-one-hot encoded variables\n",
    "\n",
    "scaler = StandardScaler()                                                          # Initialising the scaler to scale the fare variable\n",
    "sr_fare = df_train['Fare']                                                         # Creating a series for the Scaled fare\n",
    "sr_fare = sr_fare.values.reshape(-1 ,1)                                            # Reshaping the fare\n",
    "fare_scaled = scaler.fit_transform(sr_fare)                                        # Scaling the fare"
   ]
  },
  {
   "cell_type": "code",
   "execution_count": null,
   "metadata": {
    "collapsed": true
   },
   "outputs": [],
   "source": [
    "# Dataframe selector\n",
    "\n",
    "class DataFrameSelector(BaseEstimator, TransformerMixin):\n",
    "    def __init__(self, attribute_names):\n",
    "        self.attribute_names = attribute_names\n",
    "    def fit(self, X, y=None):\n",
    "        return self\n",
    "    def transform(self, X):\n",
    "        return X[self.attribute_names].values"
   ]
  },
  {
   "cell_type": "code",
   "execution_count": null,
   "metadata": {
    "collapsed": true
   },
   "outputs": [],
   "source": [
    "# Pipeline\n",
    "\n",
    "train_labels = train[\"Survived\"].copy() \n",
    "\n",
    "num_attribs = ['Survived','Age','Fare','Pclass','Siblings/Spouses Aboard','Parents/Children Aboard']\n",
    "cat_attribs = ['Sex']\n",
    "\n",
    "num_pipeline = Pipeline([\n",
    "    ('selector', DataFrameSelector(num_attribs)),\n",
    "    ('std_scaler', StandardScaler()),\n",
    "])\n",
    "\n",
    "cat_pipeline = Pipeline([\n",
    "    ('selector', DataFrameSelector(cat_attribs)),\n",
    "    ('label_binarizer', LabelBinarizer()),\n",
    "])\n",
    "\n",
    "full_pipeline = FeatureUnion(transformer_list=[\n",
    "    (\"num_pipeline\", num_pipeline),\n",
    "    (\"cat_pipeline\", cat_pipeline),\n",
    "])"
   ]
  },
  {
   "cell_type": "code",
   "execution_count": null,
   "metadata": {
    "collapsed": true
   },
   "outputs": [],
   "source": [
    "from sklearn.linear_model import LinearRegression\n",
    "from sklearn.tree import DecisionTreeRegressor, DecisionTreeClassifier, ExtraTreeClassifier, ExtraTreeRegressor\n",
    "from sklearn.svm import SVC, SVR, NuSVC, NuSVR\n",
    "\n",
    "my_model = ExtraTreeClassifier()\n",
    "\n",
    "titanic_prepared = full_pipeline.fit_transform(df_train)\n",
    "my_model.fit(titanic_prepared, train_labels)\n",
    "\n",
    "titanic_predictions = my_model.predict(titanic_prepared)\n",
    "mse = mean_squared_error(train_labels, titanic_predictions)\n",
    "rmse = np.sqrt(mse)\n",
    "\n",
    "rmse_scores = cross_val_score(my_model, titanic_prepared, train_labels, scoring=\"neg_mean_squared_error\", cv=10)\n",
    "scores = np.sqrt(-rmse_scores)\n",
    "\n",
    "def display_scores(scores):\n",
    "    print(\"Scores:\", scores)\n",
    "    print(\"Mean:\", scores.mean())\n",
    "    print(\"Standard deviation:\", scores.std())\n",
    "    \n",
    "display_scores(scores)\n",
    "print(rmse)"
   ]
  }
 ],
 "metadata": {
  "kernelspec": {
   "display_name": "Python 3",
   "language": "python",
   "name": "python3"
  },
  "language_info": {
   "codemirror_mode": {
    "name": "ipython",
    "version": 3
   },
   "file_extension": ".py",
   "mimetype": "text/x-python",
   "name": "python",
   "nbconvert_exporter": "python",
   "pygments_lexer": "ipython3",
   "version": "3.6.1"
  }
 },
 "nbformat": 4,
 "nbformat_minor": 2
}
