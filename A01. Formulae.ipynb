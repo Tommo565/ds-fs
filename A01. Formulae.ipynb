{
 "cells": [
  {
   "cell_type": "markdown",
   "metadata": {},
   "source": [
    "## Appendix 01. Useful Formulae"
   ]
  },
  {
   "cell_type": "markdown",
   "metadata": {},
   "source": [
    "#### Resources"
   ]
  },
  {
   "cell_type": "markdown",
   "metadata": {},
   "source": []
  },
  {
   "cell_type": "markdown",
   "metadata": {},
   "source": [
    "#### Modules"
   ]
  },
  {
   "cell_type": "code",
   "execution_count": null,
   "metadata": {},
   "outputs": [],
   "source": []
  },
  {
   "cell_type": "markdown",
   "metadata": {},
   "source": [
    "#### Formulae"
   ]
  },
  {
   "cell_type": "markdown",
   "metadata": {},
   "source": [
    "**Matrix Multiplication**\n",
    "\n",
    "The process used when multiplying two matrices together is to add up a bunch of products. Each element in the new matrix created by matrix multiplication is the sum of all the products of the elements in a row of the first matrix times a column in the second matrix. As such the number of rows in the first matrix must match the number of columns in the second matrix.<br/>\n",
    "![Matrix Multiplication](./images/matrix_multi.png)"
   ]
  },
  {
   "cell_type": "markdown",
   "metadata": {},
   "source": [
    "**Arithmetic Mean**<br/>\n",
    "\n",
    "The mean is the average of a set of numerical values, as calculated by adding them together and dividing by the number of terms in the set.\n",
    "\n",
    "<span style=\"color:#888888\">$${\\displaystyle A={\\frac {1}{n}}\\sum _{i=1}^{n}a_{i}={\\frac {a_{1}+a_{2}+\\cdots +a_{n}}{n}}}$$</span>\n",
    "\n",
    "Where:  \n",
    "<span style=\"color:#888888\">$A$ = Mean  \n",
    "$i$ = First observation in the data  \n",
    "$n$ = Number of observations in the dataset   \n",
    "$\\sum$ = Sum   \n",
    "$a_i$ / $a_1$ = Dataset values indexed with $i$ or the index value   \n",
    "</span>\n"
   ]
  },
  {
   "cell_type": "markdown",
   "metadata": {},
   "source": [
    "**Variance**  \n",
    "Variance measures how far a data set is spread out. The technical definition is “The average of the squared differences from the mean,” but all it really does is to give you a very general idea of the spread of your data. It is expressed in square units whereas **Standard Deviation** is expressed in the same units at the mean. Note that there are slightly different ways of calculation variance depending upon whether you are working with a sample or a full population. See [Bessel's Correction](https://en.wikipedia.org/wiki/Bessel%27s_correction) for more details. The example below uses Bessel's correction.  \n",
    "\n",
    "<span style=\"color:#888888\">$${\\displaystyle s^{2} = {\\frac{1}{N-1} \\sum_{i=1}^N (x_i - \\overline{x})^2}}$$</span>\n",
    "\n",
    "Where:  \n",
    "<span style=\"color:#888888\">$s^{2}$ = Variance  \n",
    "$N$ = The population size  \n",
    "$x_i$ = Dataset values indexed with ${i}$   \n",
    "$\\overline{x}$ = The mean (estimated)\n",
    "</span>"
   ]
  },
  {
   "cell_type": "markdown",
   "metadata": {},
   "source": [
    "**Standard Deviation**<br/>\n",
    "The standard deviation is a measurement statisticians use for the amount of variability (or spread) among the numbers in a data set. As the term implies, a standard deviation is a standard (or typical) amount of deviation (or distance) from the average (or mean, as statisticians like to call it). So the standard deviation, in very rough terms, is the average distance from the mean. Note that there are slightly different ways of calculating standard deviation depending upon whether you are working with a sample or a full population. See [Bessel's Correction](https://en.wikipedia.org/wiki/Bessel%27s_correction) for more details.\n",
    "\n",
    "<span style=\"color:#888888\">${\\displaystyle s = \\sqrt{\\frac{1}{N-1} \\sum_{i=1}^N (x_i - \\overline{x})^2}}$</span>\n",
    "\n",
    "Where:\n",
    "\n",
    "<span style=\"color:#888888\">$s$ = Standard Deviation  \n",
    "$N$ = The population size  \n",
    "$x_i$ = Dataset values indexed with ${i}$  \n",
    "$\\overline{x}$ = The mean (estimated)\n",
    "</span>"
   ]
  },
  {
   "cell_type": "code",
   "execution_count": null,
   "metadata": {},
   "outputs": [],
   "source": []
  }
 ],
 "metadata": {
  "kernelspec": {
   "display_name": "Python 3",
   "language": "python",
   "name": "python3"
  },
  "language_info": {
   "codemirror_mode": {
    "name": "ipython",
    "version": 3
   },
   "file_extension": ".py",
   "mimetype": "text/x-python",
   "name": "python",
   "nbconvert_exporter": "python",
   "pygments_lexer": "ipython3",
   "version": "3.6.4"
  }
 },
 "nbformat": 4,
 "nbformat_minor": 2
}
