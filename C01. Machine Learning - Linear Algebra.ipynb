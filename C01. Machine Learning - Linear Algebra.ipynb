{
 "cells": [
  {
   "cell_type": "markdown",
   "metadata": {},
   "source": [
    "## C01. Machine Learning - Linear Algebra"
   ]
  },
  {
   "cell_type": "markdown",
   "metadata": {},
   "source": [
    "#### Resources"
   ]
  },
  {
   "cell_type": "markdown",
   "metadata": {},
   "source": [
    "[Data Science from Scratch (pdf)](http://math.ecnu.edu.cn/~lfzhou/seminar/[Joel_Grus]_Data_Science_from_Scratch_First_Princ.pdf#page=85)<br/>\n",
    "[List of Mathematical Symbols](https://www.rapidtables.com/math/symbols/Basic_Math_Symbols.html)<br/>\n",
    "[Linear Algebra in Python (Notebook)](http://rlhick.people.wm.edu/stories/linear-algebra-python-basics.html)<br/>\n",
    "[Linear Algebra for Dummies (pdf)](http://mandelbrot.fais.upm.es/html/fisica1_y_2/fisica1/teoria/Algebra_for_dummies.pdf)<br/>\n",
    "[Matrix Multiplication](http://www.dummies.com/education/math/calculus/how-to-multiply-matrices-by-each-other/)"
   ]
  },
  {
   "cell_type": "markdown",
   "metadata": {},
   "source": [
    "#### Modules"
   ]
  },
  {
   "cell_type": "code",
   "execution_count": null,
   "metadata": {
    "collapsed": true
   },
   "outputs": [],
   "source": [
    "import numpy as np"
   ]
  },
  {
   "cell_type": "markdown",
   "metadata": {},
   "source": [
    "#### Text & Code"
   ]
  },
  {
   "cell_type": "markdown",
   "metadata": {},
   "source": [
    "Linear algebra deals with vector spaces.\n",
    "\n",
    "* Vectors: One dimensional objects.\n",
    "* Matricies: Two dimensional objects.\n",
    "* Scalars: Vectors & Matricies can be multiplied by scalars (i.e. numbers) to form new objects.\n",
    "\n",
    "A list of two numbers corresponds to a vector in 2d space. A list of three numbers corresponds to a vector in 3d space."
   ]
  },
  {
   "cell_type": "markdown",
   "metadata": {},
   "source": [
    "#### Vectors"
   ]
  },
  {
   "cell_type": "code",
   "execution_count": null,
   "metadata": {
    "collapsed": true
   },
   "outputs": [],
   "source": [
    "# Basic Vectors\n",
    "\n",
    "x_list = [20,40,60]                # Basic vector as a list\n",
    "x_vector = np.array(x_list)        # Creating a vector as a numpy array \n",
    "y_vector = np.array([50,100,150])\n",
    "\n",
    "# Converting to a Matrix\n",
    "\n",
    "a = list(zip(x_vector,y_vector)) \n",
    "B = np.array(a)\n",
    "\n",
    "print('Array B: \\n', B)             # Values in the array\n",
    "print('Shape of B: \\n', B.shape)      # Shape of the array\n",
    "\n",
    "# Basic matrix operations\n",
    "\n",
    "print('B + 3: \\n', B + 3)           # Matrix addition with a scalar\n",
    "print('B - 3: \\n', B - 3)           # Matrix subtraction with a scalar\n",
    "print('B * 3: \\n', B * 3)           # Matrix multiplication with a scalar\n",
    "print('B / 3: \\n', B / 3)           # Matrix division with a scalar\n",
    "\n",
    "C = np.random.randn(2,2).round(1)   # Random 2 x 2 array\n",
    "D = np.random.randn(2,2).round(1)   # Random 2 x 2 array\n",
    "\n",
    "print('Array of C: \\n',C)\n",
    "print('Array of D: \\n',D)\n",
    "\n",
    "print('C + D: \\n', C + D)           # Matrix addition\n",
    "print('C - D: \\n', C - D)           # Matrix subtraction"
   ]
  },
  {
   "cell_type": "markdown",
   "metadata": {},
   "source": [
    "#### Matrix Multiplication"
   ]
  },
  {
   "cell_type": "markdown",
   "metadata": {},
   "source": [
    "The process used when multiplying two matrices together is to add up a bunch of products. Each element in the new matrix created by matrix multiplication is the sum of all the products of the elements in a row of the first matrix times a column in the second matrix. As such the number of rows in the first matrix must match the number of columns in the second matrix.<br/>\n",
    "![Matrix Multiplication](./images/matrix_multi.png)"
   ]
  },
  {
   "cell_type": "code",
   "execution_count": null,
   "metadata": {
    "collapsed": true
   },
   "outputs": [],
   "source": [
    "# Matrix Multiplication\n",
    "\n",
    "e = np.array([ (1,2), (3,4) ])         # 2 rows x 2 columns array\n",
    "f = np.array([ (5,6,7), (8,9,10) ])    # 2 rows x 3 columns array\n",
    "\n",
    "print('Array of e: \\n',e)\n",
    "print('Array of f: \\n',f)\n",
    "print('Dot Multiplication of e & f: \\n', np.dot(e,f))\n",
    "print(\n",
    "    'Calculated manually: \\n', \n",
    "    [ (1 * 5) + (2 * 8), (1 * 6) + (2 * 9), (1 * 7) + (2 * 10) ],'\\n',\n",
    "    [ (3 * 5) + (4 * 8), (3 * 6) + (4 * 9), (3 * 7) + (4 * 10) ]\n",
    ")"
   ]
  },
  {
   "cell_type": "markdown",
   "metadata": {},
   "source": [
    "Matrices are important in linear algebra because:\n",
    "* We can use a matrix as a dataset of multiple vectors with each row as a vector\n",
    "* We can use an n x k matrix to represent a linear function that maps k-dimensional vectors to n-dimensional vectors\n",
    "* We can use matricies to represent binary relationships (E.g. collections of pairs)"
   ]
  }
 ],
 "metadata": {
  "kernelspec": {
   "display_name": "Python 3",
   "language": "python",
   "name": "python3"
  },
  "language_info": {
   "codemirror_mode": {
    "name": "ipython",
    "version": 3
   },
   "file_extension": ".py",
   "mimetype": "text/x-python",
   "name": "python",
   "nbconvert_exporter": "python",
   "pygments_lexer": "ipython3",
   "version": "3.6.1"
  }
 },
 "nbformat": 4,
 "nbformat_minor": 2
}
