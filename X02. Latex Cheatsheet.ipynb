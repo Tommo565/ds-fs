{
 "cells": [
  {
   "cell_type": "markdown",
   "metadata": {},
   "source": [
    "## Appendix 2. Latex Cheatsheet"
   ]
  },
  {
   "cell_type": "markdown",
   "metadata": {},
   "source": [
    "#### Resources"
   ]
  },
  {
   "cell_type": "markdown",
   "metadata": {},
   "source": [
    "[List of Latex Symbols](https://oeis.org/wiki/List_of_LaTeX_mathematical_symbols)<br/>\n",
    "[Latex Editor](https://www.latex4technics.com/)<br/>\n",
    "[Latex Identifier](http://detexify.kirelabs.org/classify.html)<br/>\n",
    "[List of Mathematical Symbols](https://www.rapidtables.com/math/symbols/Basic_Math_Symbols.html)<br/>\n",
    "[List of Mathematical Symbols (Wikipedia)](https://en.wikipedia.org/wiki/List_of_mathematical_symbols)<br/>"
   ]
  },
  {
   "cell_type": "markdown",
   "metadata": {},
   "source": [
    "#### Text & Code"
   ]
  },
  {
   "cell_type": "markdown",
   "metadata": {},
   "source": [
    "**Boilerplate Latex**"
   ]
  },
  {
   "cell_type": "raw",
   "metadata": {},
   "source": [
    "<span style=\"color:#888888\">${\\displaystyle  }$</span>"
   ]
  },
  {
   "cell_type": "markdown",
   "metadata": {},
   "source": [
    "**Fractions**\n",
    "\n",
    "<span style=\"color:#888888\">${\\displaystyle {\\frac {A}{B} } }$</span>"
   ]
  },
  {
   "cell_type": "raw",
   "metadata": {},
   "source": [
    "<span style=\"color:#888888\">${\\displaystyle {\\frac {A}{B} } }$</span>"
   ]
  },
  {
   "cell_type": "markdown",
   "metadata": {},
   "source": [
    "**Text**\n",
    "\n",
    "<span style=\"color:#888888\">${\\displaystyle \\text{Something} = {\\frac{\\text{Hello}}{\\text{World}}} }$</span>"
   ]
  },
  {
   "cell_type": "raw",
   "metadata": {},
   "source": [
    "<span style=\"color:#888888\">${\\displaystyle \\text{Something} = {\\frac{\\text{Hello}}{\\text{World}}} }$</span>"
   ]
  },
  {
   "cell_type": "markdown",
   "metadata": {},
   "source": [
    "**Square Root**  \n",
    "\n",
    "<span style=\"color:#888888\">${\\displaystyle s = \\sqrt{SquareRootMe} }$</span>"
   ]
  },
  {
   "cell_type": "raw",
   "metadata": {},
   "source": [
    "<span style=\"color:#888888\">${\\displaystyle s = \\sqrt{SquareRootMe} }$</span>"
   ]
  },
  {
   "cell_type": "markdown",
   "metadata": {},
   "source": [
    "**Sum Loop**\n",
    "\n",
    "<span style=\"color:#888888\">${\\displaystyle \\sum_{i=1}^N }$</span>"
   ]
  },
  {
   "cell_type": "raw",
   "metadata": {},
   "source": [
    "<span style=\"color:#888888\">${\\displaystyle \\sum_{i=1}^N }$</span>"
   ]
  },
  {
   "cell_type": "code",
   "execution_count": null,
   "metadata": {
    "collapsed": true
   },
   "outputs": [],
   "source": []
  }
 ],
 "metadata": {
  "kernelspec": {
   "display_name": "Python 3",
   "language": "python",
   "name": "python3"
  },
  "language_info": {
   "codemirror_mode": {
    "name": "ipython",
    "version": 3
   },
   "file_extension": ".py",
   "mimetype": "text/x-python",
   "name": "python",
   "nbconvert_exporter": "python",
   "pygments_lexer": "ipython3",
   "version": "3.6.1"
  }
 },
 "nbformat": 4,
 "nbformat_minor": 2
}
