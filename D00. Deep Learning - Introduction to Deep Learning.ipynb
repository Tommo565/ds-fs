{
 "cells": [
  {
   "cell_type": "markdown",
   "metadata": {},
   "source": [
    "## D00. Neural Networks & Deep Learning - Introduction to Neural Networks & Deep Learning"
   ]
  },
  {
   "cell_type": "markdown",
   "metadata": {},
   "source": [
    "#### Resources\n",
    "\n",
    "[AI vs ML vs DL](https://www.datasciencecentral.com/profiles/blogs/artificial-intelligence-vs-machine-learning-vs-deep-learning)  \n",
    "[Neural Networks](https://www.explainthatstuff.com/introduction-to-neural-networks.html)  \n",
    "[Neural Network Terminology](http://www.wildml.com/deep-learning-glossary/)  \n",
    "[A Gentle Introduction to Neural Networks (Part 2)](https://towardsdatascience.com/a-gentle-introduction-to-neural-networks-series-part-1-2b90b87795bc)  \n",
    "[How Does Deep Learning Work?](https://www.quora.com/How-does-deep-learning-work-and-how-is-it-different-from-normal-neural-networks-applied-with-SVM-How-does-one-go-about-starting-to-understand-them-papers-blogs-articles)  \n",
    "[A Journey into Deep Learning](https://towardsdatascience.com/my-journey-into-deep-learning-c66e6ef2a317)  "
   ]
  },
  {
   "cell_type": "markdown",
   "metadata": {},
   "source": [
    "#### AI, Machine Learning, Neural Networks & Deep Learning\n",
    "\n",
    "AI and machine learning are often used interchangeably, especially in the realm of big data. But these aren’t the same thing, and it is important to understand how these can be applied differently. \n",
    "\n",
    "Artificial intelligence is a broader concept than machine learning, which addresses the use of computers to mimic the cognitive functions of humans. When machines carry out tasks based on algorithms in an “intelligent” manner, that is AI. Machine learning is a subset of AI and focuses on the ability of machines to receive a set of data and learn for themselves, changing algorithms as they learn more about the information they are processing.\n",
    "\n",
    "\n",
    "#### Neural Networks  \n",
    "\n",
    "The definition of a neural network, more properly referred to as an 'artificial' neural network (ANN), is provided by the inventor of one of the first neurocomputers, Dr. Robert Hecht-Nielsen. He defines a neural network as:\n",
    "\n",
    "*...a computing system made up of a number of simple, highly interconnected processing elements, which process information by their dynamic state response to external inputs.\"*  \n",
    "\n",
    "Or you can also think of Artificial Neural Network as computational model that is inspired by the way biological neural networks in the human brain process information so you can get it to learn things, recognize patterns, and make decisions in a humanlike way. The amazing thing about a neural network is that you don't have to program it to learn explicitly: it learns all by itself.\n",
    "\n",
    "It's important to note that neural networks are (generally) software simulations: they're made by programming very ordinary computers, working in a very traditional fashion, to behave as though they're built from highly interconnected brain cells working in parallel. In other words, an Artificial Neural Network (ANN) differs from a human brain in exactly the same way that a computer model of the weather differs from real clouds, snowflakes, or sunshine.\n",
    "\n",
    "![ANN](./images/ann.png)  \n",
    "\n",
    "A typical ANN has anything from a few dozen to hundreds, thousands, or even millions of artificial neurons called units arranged in a series of layers, each of which connects to the layers on either side. Some of them, known as input units, are designed to receive various forms of information from the outside world that the network will attempt to learn about, recognize, or otherwise process. Other units sit on the opposite side of the network and signal how it responds to the information it's learned; those are known as output units.  \n",
    "\n",
    "In between the input units and output units are one or more layers of hidden units, which, together, form the majority of the artificial brain. Most neural networks are fully connected, which means each hidden unit and each output unit is connected to every unit in the layers either side. The connections between one unit and another are represented by a number called a weight, which can be either positive (if one unit excites another) or negative (if one unit suppresses or inhibits another). The higher the weight, the more influence one unit has on another. (This corresponds to the way actual brain cells trigger one another across tiny gaps called synapses.)\n",
    "\n",
    "Information flows through a neural network in two ways. When it's learning (being trained) or operating normally (after being trained), patterns of information are fed into the network via the input units, which trigger the layers of hidden units, and these in turn arrive at the output units. This common design is called a feedforward network. Not all units \"fire\" all the time. Each unit receives inputs from the units to its left, and the inputs are multiplied by the weights of the connections they travel along. Every unit adds up all the inputs it receives in this way and (in the simplest type of network) if the sum is more than a certain threshold value, the unit \"fires\" and triggers the units it's connected to (those on its right).  "
   ]
  },
  {
   "cell_type": "markdown",
   "metadata": {
    "collapsed": true
   },
   "source": [
    "For a neural network to learn, there has to be an element of feedback involved called **backpropagation** (sometimes abbreviated as **backprop**). This involves comparing the output a network produces with the output it was meant to produce, and using the difference between them to modify the weights of the connections between the units in the network, working from the output units through the hidden units to the input units—going backward, in other words. In time, backpropagation causes the network to learn, reducing the difference between actual and intended output to the point where the two exactly coincide, so the network figures things out exactly as it should.\n",
    "\n",
    "Once the network has been trained with enough learning examples, it reaches a point where you can present it with an entirely new set of inputs it's never seen before and see how it responds. For example, suppose you've been teaching a network by showing it lots of pictures of chairs and tables, represented in some appropriate way it can understand, and telling it whether each one is a chair or a table. After showing it, let's say, 25 different chairs and 25 different tables, you feed it a picture of some new design it's not encountered before—let's say a chaise longue—and see what happens. Depending on how you've trained it, it'll attempt to categorize the new example as either a chair or a table, generalizing on the basis of its past experience—just like a human.\n",
    "\n",
    "That doesn't mean to say a neural network can just \"look\" at pieces of furniture and instantly respond to them in meaningful ways; it's not behaving like a person. Consider the example we've just given: the network is not actually looking at pieces of furniture. The inputs to a network are essentially binary numbers: each input unit is either switched on or switched off. \n",
    "\n",
    "So if you had five input units, you could feed in information about five different characteristics of different chairs using binary (yes/no) answers. The questions might be:  \n",
    "\n",
    "1) Does it have a back?  \n",
    "2) Does it have a top?  \n",
    "3) Does it have soft upholstery?  \n",
    "4) Can you sit on it comfortably for long periods of time?  \n",
    "5) Can you put lots of things on top of it?   \n",
    "\n",
    "A typical chair would then present as Yes, No, Yes, Yes, No or 10110 in binary, while a typical table might be No, Yes, No, No, Yes or 01001. So, during the learning phase, the network is simply looking at lots of numbers like 10110 and 01001 and learning that some mean chair (which might be an output of 1) while others mean table (an output of 0).\n",
    "\n"
   ]
  },
  {
   "cell_type": "markdown",
   "metadata": {},
   "source": []
  }
 ],
 "metadata": {
  "kernelspec": {
   "display_name": "Python 3",
   "language": "python",
   "name": "python3"
  },
  "language_info": {
   "codemirror_mode": {
    "name": "ipython",
    "version": 3
   },
   "file_extension": ".py",
   "mimetype": "text/x-python",
   "name": "python",
   "nbconvert_exporter": "python",
   "pygments_lexer": "ipython3",
   "version": "3.6.1"
  }
 },
 "nbformat": 4,
 "nbformat_minor": 2
}
